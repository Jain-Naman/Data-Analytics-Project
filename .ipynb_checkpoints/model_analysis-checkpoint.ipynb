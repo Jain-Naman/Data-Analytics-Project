{
 "cells": [
  {
   "cell_type": "code",
   "execution_count": 1,
   "id": "08bfd89d",
   "metadata": {},
   "outputs": [],
   "source": [
    "import numpy as np\n",
    "import matplotlib.pyplot as plt\n",
    "import seaborn as sns\n",
    "import pandas as pd\n",
    "\n",
    "from sklearn.preprocessing import LabelEncoder\n",
    "from sklearn.ensemble import RandomForestClassifier\n",
    "from sklearn.linear_model import LinearRegression\n",
    "from sklearn.linear_model import LogisticRegression\n",
    "from sklearn.model_selection import train_test_split\n",
    "from sklearn.preprocessing import StandardScaler\n",
    "from sklearn.svm import SVC\n",
    "from sklearn.tree import DecisionTreeClassifier\n",
    "from sklearn.metrics import confusion_matrix, classification_report"
   ]
  },
  {
   "cell_type": "code",
   "execution_count": 2,
   "id": "de5bff7f",
   "metadata": {},
   "outputs": [
    {
     "data": {
      "text/html": [
       "<div>\n",
       "<style scoped>\n",
       "    .dataframe tbody tr th:only-of-type {\n",
       "        vertical-align: middle;\n",
       "    }\n",
       "\n",
       "    .dataframe tbody tr th {\n",
       "        vertical-align: top;\n",
       "    }\n",
       "\n",
       "    .dataframe thead th {\n",
       "        text-align: right;\n",
       "    }\n",
       "</style>\n",
       "<table border=\"1\" class=\"dataframe\">\n",
       "  <thead>\n",
       "    <tr style=\"text-align: right;\">\n",
       "      <th></th>\n",
       "      <th>id</th>\n",
       "      <th>inning</th>\n",
       "      <th>batting_team</th>\n",
       "      <th>toss_winner</th>\n",
       "      <th>toss_decision</th>\n",
       "      <th>city</th>\n",
       "      <th>winner</th>\n",
       "      <th>last_over</th>\n",
       "      <th>wickets</th>\n",
       "      <th>bowling_team</th>\n",
       "      <th>cum_score_6</th>\n",
       "      <th>fall_wickets_6</th>\n",
       "      <th>final_20</th>\n",
       "      <th>team_match_count</th>\n",
       "      <th>final_avg</th>\n",
       "    </tr>\n",
       "  </thead>\n",
       "  <tbody>\n",
       "    <tr>\n",
       "      <th>0</th>\n",
       "      <td>1</td>\n",
       "      <td>1</td>\n",
       "      <td>Sunrisers Hyderabad</td>\n",
       "      <td>Royal Challengers Bangalore</td>\n",
       "      <td>field</td>\n",
       "      <td>Hyderabad</td>\n",
       "      <td>Sunrisers Hyderabad</td>\n",
       "      <td>17</td>\n",
       "      <td>4</td>\n",
       "      <td>Royal Challengers Bangalore</td>\n",
       "      <td>59</td>\n",
       "      <td>1</td>\n",
       "      <td>207</td>\n",
       "      <td>1</td>\n",
       "      <td>0.0</td>\n",
       "    </tr>\n",
       "    <tr>\n",
       "      <th>4</th>\n",
       "      <td>5</td>\n",
       "      <td>1</td>\n",
       "      <td>Royal Challengers Bangalore</td>\n",
       "      <td>Royal Challengers Bangalore</td>\n",
       "      <td>bat</td>\n",
       "      <td>Bengaluru</td>\n",
       "      <td>Royal Challengers Bangalore</td>\n",
       "      <td>9</td>\n",
       "      <td>8</td>\n",
       "      <td>Delhi Daredevils</td>\n",
       "      <td>41</td>\n",
       "      <td>2</td>\n",
       "      <td>157</td>\n",
       "      <td>1</td>\n",
       "      <td>0.0</td>\n",
       "    </tr>\n",
       "    <tr>\n",
       "      <th>8</th>\n",
       "      <td>9</td>\n",
       "      <td>1</td>\n",
       "      <td>Delhi Daredevils</td>\n",
       "      <td>Rising Pune Supergiants</td>\n",
       "      <td>field</td>\n",
       "      <td>Pune</td>\n",
       "      <td>Delhi Daredevils</td>\n",
       "      <td>15</td>\n",
       "      <td>4</td>\n",
       "      <td>Rising Pune Supergiants</td>\n",
       "      <td>62</td>\n",
       "      <td>1</td>\n",
       "      <td>205</td>\n",
       "      <td>1</td>\n",
       "      <td>0.0</td>\n",
       "    </tr>\n",
       "    <tr>\n",
       "      <th>13</th>\n",
       "      <td>14</td>\n",
       "      <td>1</td>\n",
       "      <td>Kolkata Knight Riders</td>\n",
       "      <td>Sunrisers Hyderabad</td>\n",
       "      <td>field</td>\n",
       "      <td>Kolkata</td>\n",
       "      <td>Kolkata Knight Riders</td>\n",
       "      <td>7</td>\n",
       "      <td>6</td>\n",
       "      <td>Sunrisers Hyderabad</td>\n",
       "      <td>40</td>\n",
       "      <td>2</td>\n",
       "      <td>172</td>\n",
       "      <td>1</td>\n",
       "      <td>177.5</td>\n",
       "    </tr>\n",
       "    <tr>\n",
       "      <th>14</th>\n",
       "      <td>15</td>\n",
       "      <td>1</td>\n",
       "      <td>Delhi Daredevils</td>\n",
       "      <td>Delhi Daredevils</td>\n",
       "      <td>bat</td>\n",
       "      <td>Delhi</td>\n",
       "      <td>Delhi Daredevils</td>\n",
       "      <td>8</td>\n",
       "      <td>6</td>\n",
       "      <td>Kings XI Punjab</td>\n",
       "      <td>49</td>\n",
       "      <td>0</td>\n",
       "      <td>188</td>\n",
       "      <td>1</td>\n",
       "      <td>205.0</td>\n",
       "    </tr>\n",
       "  </tbody>\n",
       "</table>\n",
       "</div>"
      ],
      "text/plain": [
       "    id  inning                 batting_team                  toss_winner  \\\n",
       "0    1       1          Sunrisers Hyderabad  Royal Challengers Bangalore   \n",
       "4    5       1  Royal Challengers Bangalore  Royal Challengers Bangalore   \n",
       "8    9       1             Delhi Daredevils      Rising Pune Supergiants   \n",
       "13  14       1        Kolkata Knight Riders          Sunrisers Hyderabad   \n",
       "14  15       1             Delhi Daredevils             Delhi Daredevils   \n",
       "\n",
       "   toss_decision       city                       winner  last_over  wickets  \\\n",
       "0          field  Hyderabad          Sunrisers Hyderabad         17        4   \n",
       "4            bat  Bengaluru  Royal Challengers Bangalore          9        8   \n",
       "8          field       Pune             Delhi Daredevils         15        4   \n",
       "13         field    Kolkata        Kolkata Knight Riders          7        6   \n",
       "14           bat      Delhi             Delhi Daredevils          8        6   \n",
       "\n",
       "                   bowling_team  cum_score_6  fall_wickets_6  final_20  \\\n",
       "0   Royal Challengers Bangalore           59               1       207   \n",
       "4              Delhi Daredevils           41               2       157   \n",
       "8       Rising Pune Supergiants           62               1       205   \n",
       "13          Sunrisers Hyderabad           40               2       172   \n",
       "14              Kings XI Punjab           49               0       188   \n",
       "\n",
       "    team_match_count  final_avg  \n",
       "0                  1        0.0  \n",
       "4                  1        0.0  \n",
       "8                  1        0.0  \n",
       "13                 1      177.5  \n",
       "14                 1      205.0  "
      ]
     },
     "execution_count": 2,
     "metadata": {},
     "output_type": "execute_result"
    }
   ],
   "source": [
    "final = pd.read_csv('./dataset/ipl/prediction_df.csv')\n",
    "final = final.iloc[:, 1:]\n",
    "final = final[final['inning']==1]\n",
    "final.head()"
   ]
  },
  {
   "cell_type": "code",
   "execution_count": 3,
   "id": "d72e9b43",
   "metadata": {},
   "outputs": [
    {
     "data": {
      "text/html": [
       "<div>\n",
       "<style scoped>\n",
       "    .dataframe tbody tr th:only-of-type {\n",
       "        vertical-align: middle;\n",
       "    }\n",
       "\n",
       "    .dataframe tbody tr th {\n",
       "        vertical-align: top;\n",
       "    }\n",
       "\n",
       "    .dataframe thead th {\n",
       "        text-align: right;\n",
       "    }\n",
       "</style>\n",
       "<table border=\"1\" class=\"dataframe\">\n",
       "  <thead>\n",
       "    <tr style=\"text-align: right;\">\n",
       "      <th></th>\n",
       "      <th>batting_team</th>\n",
       "      <th>city</th>\n",
       "      <th>score_6</th>\n",
       "      <th>fall_wickets_6</th>\n",
       "      <th>batting_avg</th>\n",
       "      <th>final_score_20</th>\n",
       "    </tr>\n",
       "  </thead>\n",
       "  <tbody>\n",
       "    <tr>\n",
       "      <th>0</th>\n",
       "      <td>Sunrisers Hyderabad</td>\n",
       "      <td>Hyderabad</td>\n",
       "      <td>59</td>\n",
       "      <td>1</td>\n",
       "      <td>0.0</td>\n",
       "      <td>207</td>\n",
       "    </tr>\n",
       "    <tr>\n",
       "      <th>4</th>\n",
       "      <td>Royal Challengers Bangalore</td>\n",
       "      <td>Bengaluru</td>\n",
       "      <td>41</td>\n",
       "      <td>2</td>\n",
       "      <td>0.0</td>\n",
       "      <td>157</td>\n",
       "    </tr>\n",
       "    <tr>\n",
       "      <th>8</th>\n",
       "      <td>Delhi Daredevils</td>\n",
       "      <td>Pune</td>\n",
       "      <td>62</td>\n",
       "      <td>1</td>\n",
       "      <td>0.0</td>\n",
       "      <td>205</td>\n",
       "    </tr>\n",
       "    <tr>\n",
       "      <th>13</th>\n",
       "      <td>Kolkata Knight Riders</td>\n",
       "      <td>Kolkata</td>\n",
       "      <td>40</td>\n",
       "      <td>2</td>\n",
       "      <td>177.5</td>\n",
       "      <td>172</td>\n",
       "    </tr>\n",
       "    <tr>\n",
       "      <th>14</th>\n",
       "      <td>Delhi Daredevils</td>\n",
       "      <td>Delhi</td>\n",
       "      <td>49</td>\n",
       "      <td>0</td>\n",
       "      <td>205.0</td>\n",
       "      <td>188</td>\n",
       "    </tr>\n",
       "  </tbody>\n",
       "</table>\n",
       "</div>"
      ],
      "text/plain": [
       "                   batting_team       city  score_6  fall_wickets_6  \\\n",
       "0           Sunrisers Hyderabad  Hyderabad       59               1   \n",
       "4   Royal Challengers Bangalore  Bengaluru       41               2   \n",
       "8              Delhi Daredevils       Pune       62               1   \n",
       "13        Kolkata Knight Riders    Kolkata       40               2   \n",
       "14             Delhi Daredevils      Delhi       49               0   \n",
       "\n",
       "    batting_avg  final_score_20  \n",
       "0           0.0             207  \n",
       "4           0.0             157  \n",
       "8           0.0             205  \n",
       "13        177.5             172  \n",
       "14        205.0             188  "
      ]
     },
     "execution_count": 3,
     "metadata": {},
     "output_type": "execute_result"
    }
   ],
   "source": [
    "X = final.drop(columns=['id','inning','toss_winner','toss_decision','winner','last_over','wickets','team_match_count',])\n",
    "X = X.reindex(columns=['batting_team','city','cum_score_6', 'fall_wickets_6', 'final_avg', 'final_20'])\n",
    "X.rename(columns={'final_avg':'batting_avg','final_20':'final_score_20','cum_score_6':'score_6'}, inplace=True)\n",
    "X.head()"
   ]
  },
  {
   "cell_type": "code",
   "execution_count": 4,
   "id": "7c4c0d28",
   "metadata": {},
   "outputs": [
    {
     "data": {
      "text/html": [
       "<div>\n",
       "<style scoped>\n",
       "    .dataframe tbody tr th:only-of-type {\n",
       "        vertical-align: middle;\n",
       "    }\n",
       "\n",
       "    .dataframe tbody tr th {\n",
       "        vertical-align: top;\n",
       "    }\n",
       "\n",
       "    .dataframe thead th {\n",
       "        text-align: right;\n",
       "    }\n",
       "</style>\n",
       "<table border=\"1\" class=\"dataframe\">\n",
       "  <thead>\n",
       "    <tr style=\"text-align: right;\">\n",
       "      <th></th>\n",
       "      <th>score_6</th>\n",
       "      <th>fall_wickets_6</th>\n",
       "      <th>batting_avg</th>\n",
       "      <th>batting_team_Chennai Super Kings</th>\n",
       "      <th>batting_team_Deccan Chargers</th>\n",
       "      <th>batting_team_Delhi Capitals</th>\n",
       "      <th>batting_team_Delhi Daredevils</th>\n",
       "      <th>batting_team_Gujarat Lions</th>\n",
       "      <th>batting_team_Kings XI Punjab</th>\n",
       "      <th>batting_team_Kochi Tuskers Kerala</th>\n",
       "      <th>...</th>\n",
       "      <th>city_Mohali</th>\n",
       "      <th>city_Mumbai</th>\n",
       "      <th>city_Nagpur</th>\n",
       "      <th>city_Port Elizabeth</th>\n",
       "      <th>city_Pune</th>\n",
       "      <th>city_Raipur</th>\n",
       "      <th>city_Rajkot</th>\n",
       "      <th>city_Ranchi</th>\n",
       "      <th>city_Sharjah</th>\n",
       "      <th>city_Visakhapatnam</th>\n",
       "    </tr>\n",
       "  </thead>\n",
       "  <tbody>\n",
       "    <tr>\n",
       "      <th>0</th>\n",
       "      <td>0.986210</td>\n",
       "      <td>1</td>\n",
       "      <td>-7.268071</td>\n",
       "      <td>0</td>\n",
       "      <td>0</td>\n",
       "      <td>0</td>\n",
       "      <td>0</td>\n",
       "      <td>0</td>\n",
       "      <td>0</td>\n",
       "      <td>0</td>\n",
       "      <td>...</td>\n",
       "      <td>0</td>\n",
       "      <td>0</td>\n",
       "      <td>0</td>\n",
       "      <td>0</td>\n",
       "      <td>0</td>\n",
       "      <td>0</td>\n",
       "      <td>0</td>\n",
       "      <td>0</td>\n",
       "      <td>0</td>\n",
       "      <td>0</td>\n",
       "    </tr>\n",
       "    <tr>\n",
       "      <th>4</th>\n",
       "      <td>-0.592459</td>\n",
       "      <td>2</td>\n",
       "      <td>-7.268071</td>\n",
       "      <td>0</td>\n",
       "      <td>0</td>\n",
       "      <td>0</td>\n",
       "      <td>0</td>\n",
       "      <td>0</td>\n",
       "      <td>0</td>\n",
       "      <td>0</td>\n",
       "      <td>...</td>\n",
       "      <td>0</td>\n",
       "      <td>0</td>\n",
       "      <td>0</td>\n",
       "      <td>0</td>\n",
       "      <td>0</td>\n",
       "      <td>0</td>\n",
       "      <td>0</td>\n",
       "      <td>0</td>\n",
       "      <td>0</td>\n",
       "      <td>0</td>\n",
       "    </tr>\n",
       "    <tr>\n",
       "      <th>8</th>\n",
       "      <td>1.249322</td>\n",
       "      <td>1</td>\n",
       "      <td>-7.268071</td>\n",
       "      <td>0</td>\n",
       "      <td>0</td>\n",
       "      <td>0</td>\n",
       "      <td>1</td>\n",
       "      <td>0</td>\n",
       "      <td>0</td>\n",
       "      <td>0</td>\n",
       "      <td>...</td>\n",
       "      <td>0</td>\n",
       "      <td>0</td>\n",
       "      <td>0</td>\n",
       "      <td>0</td>\n",
       "      <td>1</td>\n",
       "      <td>0</td>\n",
       "      <td>0</td>\n",
       "      <td>0</td>\n",
       "      <td>0</td>\n",
       "      <td>0</td>\n",
       "    </tr>\n",
       "    <tr>\n",
       "      <th>13</th>\n",
       "      <td>-0.680163</td>\n",
       "      <td>2</td>\n",
       "      <td>0.853465</td>\n",
       "      <td>0</td>\n",
       "      <td>0</td>\n",
       "      <td>0</td>\n",
       "      <td>0</td>\n",
       "      <td>0</td>\n",
       "      <td>0</td>\n",
       "      <td>0</td>\n",
       "      <td>...</td>\n",
       "      <td>0</td>\n",
       "      <td>0</td>\n",
       "      <td>0</td>\n",
       "      <td>0</td>\n",
       "      <td>0</td>\n",
       "      <td>0</td>\n",
       "      <td>0</td>\n",
       "      <td>0</td>\n",
       "      <td>0</td>\n",
       "      <td>0</td>\n",
       "    </tr>\n",
       "    <tr>\n",
       "      <th>14</th>\n",
       "      <td>0.109172</td>\n",
       "      <td>0</td>\n",
       "      <td>2.111731</td>\n",
       "      <td>0</td>\n",
       "      <td>0</td>\n",
       "      <td>0</td>\n",
       "      <td>1</td>\n",
       "      <td>0</td>\n",
       "      <td>0</td>\n",
       "      <td>0</td>\n",
       "      <td>...</td>\n",
       "      <td>0</td>\n",
       "      <td>0</td>\n",
       "      <td>0</td>\n",
       "      <td>0</td>\n",
       "      <td>0</td>\n",
       "      <td>0</td>\n",
       "      <td>0</td>\n",
       "      <td>0</td>\n",
       "      <td>0</td>\n",
       "      <td>0</td>\n",
       "    </tr>\n",
       "  </tbody>\n",
       "</table>\n",
       "<p>5 rows × 47 columns</p>\n",
       "</div>"
      ],
      "text/plain": [
       "     score_6  fall_wickets_6  batting_avg  batting_team_Chennai Super Kings  \\\n",
       "0   0.986210               1    -7.268071                                 0   \n",
       "4  -0.592459               2    -7.268071                                 0   \n",
       "8   1.249322               1    -7.268071                                 0   \n",
       "13 -0.680163               2     0.853465                                 0   \n",
       "14  0.109172               0     2.111731                                 0   \n",
       "\n",
       "    batting_team_Deccan Chargers  batting_team_Delhi Capitals  \\\n",
       "0                              0                            0   \n",
       "4                              0                            0   \n",
       "8                              0                            0   \n",
       "13                             0                            0   \n",
       "14                             0                            0   \n",
       "\n",
       "    batting_team_Delhi Daredevils  batting_team_Gujarat Lions  \\\n",
       "0                               0                           0   \n",
       "4                               0                           0   \n",
       "8                               1                           0   \n",
       "13                              0                           0   \n",
       "14                              1                           0   \n",
       "\n",
       "    batting_team_Kings XI Punjab  batting_team_Kochi Tuskers Kerala  ...  \\\n",
       "0                              0                                  0  ...   \n",
       "4                              0                                  0  ...   \n",
       "8                              0                                  0  ...   \n",
       "13                             0                                  0  ...   \n",
       "14                             0                                  0  ...   \n",
       "\n",
       "    city_Mohali  city_Mumbai  city_Nagpur  city_Port Elizabeth  city_Pune  \\\n",
       "0             0            0            0                    0          0   \n",
       "4             0            0            0                    0          0   \n",
       "8             0            0            0                    0          1   \n",
       "13            0            0            0                    0          0   \n",
       "14            0            0            0                    0          0   \n",
       "\n",
       "    city_Raipur  city_Rajkot  city_Ranchi  city_Sharjah  city_Visakhapatnam  \n",
       "0             0            0            0             0                   0  \n",
       "4             0            0            0             0                   0  \n",
       "8             0            0            0             0                   0  \n",
       "13            0            0            0             0                   0  \n",
       "14            0            0            0             0                   0  \n",
       "\n",
       "[5 rows x 47 columns]"
      ]
     },
     "execution_count": 4,
     "metadata": {},
     "output_type": "execute_result"
    }
   ],
   "source": [
    "# X = final.drop(columns=['id','toss_winner','toss_decision','winner','last_over','wickets','team_match_count','batting_avg','run_rate_6','final_20',])\n",
    "X = X.drop(columns=['final_score_20'])\n",
    "\n",
    "X['batting_avg'] = (X['batting_avg'] - X['batting_avg'].mean())/X['batting_avg'].std()\n",
    "X['score_6'] = (X['score_6'] - X['score_6'].mean())/X['score_6'].std()\n",
    "\n",
    "X = pd.get_dummies(data=X, drop_first=False)\n",
    "X.head()"
   ]
  },
  {
   "cell_type": "code",
   "execution_count": 5,
   "id": "d13bb171",
   "metadata": {},
   "outputs": [
    {
     "data": {
      "text/plain": [
       "0     207\n",
       "4     157\n",
       "8     205\n",
       "13    172\n",
       "14    188\n",
       "Name: final_20, dtype: int64"
      ]
     },
     "execution_count": 5,
     "metadata": {},
     "output_type": "execute_result"
    }
   ],
   "source": [
    "Y = final['final_20']\n",
    "Y.head()"
   ]
  },
  {
   "cell_type": "code",
   "execution_count": 6,
   "id": "e3237099",
   "metadata": {},
   "outputs": [
    {
     "name": "stdout",
     "output_type": "stream",
     "text": [
      "X_train shape:  (284, 47)\n",
      "X_test shape:  (51, 47)\n",
      "y_train shape:  (284,)\n",
      "y_test shape:  (51,)\n"
     ]
    }
   ],
   "source": [
    "X_train, X_test, y_train, y_test = train_test_split(X, Y, test_size=0.15, random_state=101)\n",
    "\n",
    "print(\"X_train shape: \", X_train.shape)\n",
    "print(\"X_test shape: \", X_test.shape)\n",
    "print(\"y_train shape: \", y_train.shape)\n",
    "print(\"y_test shape: \", y_test.shape)"
   ]
  },
  {
   "cell_type": "code",
   "execution_count": 7,
   "id": "0eee2bbd",
   "metadata": {},
   "outputs": [],
   "source": [
    "def mae(y, pred):\n",
    "    return np.absolute(pred - y).sum()/len(y)"
   ]
  },
  {
   "cell_type": "code",
   "execution_count": 8,
   "id": "8595817b",
   "metadata": {},
   "outputs": [],
   "source": [
    "def plotter(y, pred):\n",
    "    plt.figure(figsize=(6,4))\n",
    "    a = plt.axes(aspect='equal')\n",
    "    plt.scatter(y, pred)\n",
    "    plt.xlabel('True Values')\n",
    "    plt.ylabel('Predictions')\n",
    "    lims = [50, 250]\n",
    "    plt.xlim(lims)\n",
    "    plt.ylim(lims)\n",
    "    _ = plt.plot(lims, lims)"
   ]
  },
  {
   "cell_type": "markdown",
   "id": "c0afcd57",
   "metadata": {},
   "source": [
    "## Linear Regression"
   ]
  },
  {
   "cell_type": "code",
   "execution_count": 9,
   "id": "3100f91f",
   "metadata": {},
   "outputs": [
    {
     "data": {
      "text/plain": [
       "LinearRegression()"
      ]
     },
     "execution_count": 9,
     "metadata": {},
     "output_type": "execute_result"
    }
   ],
   "source": [
    "model = LinearRegression()\n",
    "model.fit(X_train, y_train)"
   ]
  },
  {
   "cell_type": "code",
   "execution_count": 10,
   "id": "7a830e6c",
   "metadata": {},
   "outputs": [
    {
     "data": {
      "text/html": [
       "<div>\n",
       "<style scoped>\n",
       "    .dataframe tbody tr th:only-of-type {\n",
       "        vertical-align: middle;\n",
       "    }\n",
       "\n",
       "    .dataframe tbody tr th {\n",
       "        vertical-align: top;\n",
       "    }\n",
       "\n",
       "    .dataframe thead th {\n",
       "        text-align: right;\n",
       "    }\n",
       "</style>\n",
       "<table border=\"1\" class=\"dataframe\">\n",
       "  <thead>\n",
       "    <tr style=\"text-align: right;\">\n",
       "      <th></th>\n",
       "      <th>score_6</th>\n",
       "      <th>fall_wickets_6</th>\n",
       "      <th>batting_avg</th>\n",
       "      <th>batting_team_Chennai Super Kings</th>\n",
       "      <th>batting_team_Deccan Chargers</th>\n",
       "      <th>batting_team_Delhi Capitals</th>\n",
       "      <th>batting_team_Delhi Daredevils</th>\n",
       "      <th>batting_team_Gujarat Lions</th>\n",
       "      <th>batting_team_Kings XI Punjab</th>\n",
       "      <th>batting_team_Kochi Tuskers Kerala</th>\n",
       "      <th>...</th>\n",
       "      <th>city_Mohali</th>\n",
       "      <th>city_Mumbai</th>\n",
       "      <th>city_Nagpur</th>\n",
       "      <th>city_Port Elizabeth</th>\n",
       "      <th>city_Pune</th>\n",
       "      <th>city_Raipur</th>\n",
       "      <th>city_Rajkot</th>\n",
       "      <th>city_Ranchi</th>\n",
       "      <th>city_Sharjah</th>\n",
       "      <th>city_Visakhapatnam</th>\n",
       "    </tr>\n",
       "  </thead>\n",
       "  <tbody>\n",
       "    <tr>\n",
       "      <th>Coefficient</th>\n",
       "      <td>8.721762</td>\n",
       "      <td>-8.112988</td>\n",
       "      <td>-2.631289</td>\n",
       "      <td>-3.873447e+13</td>\n",
       "      <td>-3.873447e+13</td>\n",
       "      <td>-3.873447e+13</td>\n",
       "      <td>-3.873447e+13</td>\n",
       "      <td>-3.873447e+13</td>\n",
       "      <td>-3.873447e+13</td>\n",
       "      <td>-3.873447e+13</td>\n",
       "      <td>...</td>\n",
       "      <td>-3.122824</td>\n",
       "      <td>-7.713275</td>\n",
       "      <td>-9.409377</td>\n",
       "      <td>-36.532619</td>\n",
       "      <td>-11.21034</td>\n",
       "      <td>-8.814997</td>\n",
       "      <td>-10.983763</td>\n",
       "      <td>-47.549553</td>\n",
       "      <td>-8.897994</td>\n",
       "      <td>-6.810553</td>\n",
       "    </tr>\n",
       "  </tbody>\n",
       "</table>\n",
       "<p>1 rows × 47 columns</p>\n",
       "</div>"
      ],
      "text/plain": [
       "              score_6  fall_wickets_6  batting_avg  \\\n",
       "Coefficient  8.721762       -8.112988    -2.631289   \n",
       "\n",
       "             batting_team_Chennai Super Kings  batting_team_Deccan Chargers  \\\n",
       "Coefficient                     -3.873447e+13                 -3.873447e+13   \n",
       "\n",
       "             batting_team_Delhi Capitals  batting_team_Delhi Daredevils  \\\n",
       "Coefficient                -3.873447e+13                  -3.873447e+13   \n",
       "\n",
       "             batting_team_Gujarat Lions  batting_team_Kings XI Punjab  \\\n",
       "Coefficient               -3.873447e+13                 -3.873447e+13   \n",
       "\n",
       "             batting_team_Kochi Tuskers Kerala  ...  city_Mohali  city_Mumbai  \\\n",
       "Coefficient                      -3.873447e+13  ...    -3.122824    -7.713275   \n",
       "\n",
       "             city_Nagpur  city_Port Elizabeth  city_Pune  city_Raipur  \\\n",
       "Coefficient    -9.409377           -36.532619  -11.21034    -8.814997   \n",
       "\n",
       "             city_Rajkot  city_Ranchi  city_Sharjah  city_Visakhapatnam  \n",
       "Coefficient   -10.983763   -47.549553     -8.897994           -6.810553  \n",
       "\n",
       "[1 rows x 47 columns]"
      ]
     },
     "execution_count": 10,
     "metadata": {},
     "output_type": "execute_result"
    }
   ],
   "source": [
    "coeff_parameter = pd.DataFrame(model.coef_,X.columns,columns=['Coefficient'])\n",
    "coeff_parameter.transpose()"
   ]
  },
  {
   "cell_type": "code",
   "execution_count": 11,
   "id": "79a6dbc4",
   "metadata": {},
   "outputs": [
    {
     "data": {
      "text/plain": [
       "array([172.3125   , 140.3046875, 184.0546875, 174.8828125, 173.421875 ])"
      ]
     },
     "execution_count": 11,
     "metadata": {},
     "output_type": "execute_result"
    }
   ],
   "source": [
    "predictions = model.predict(X_test)\n",
    "predictions[:5]"
   ]
  },
  {
   "cell_type": "code",
   "execution_count": 12,
   "id": "c57d42d8",
   "metadata": {},
   "outputs": [
    {
     "data": {
      "image/png": "[encoded data removed]",
      "text/plain": [
       "<Figure size 432x288 with 1 Axes>"
      ]
     },
     "metadata": {
      "needs_background": "light"
     },
     "output_type": "display_data"
    }
   ],
   "source": [
    "plotter(y_test, predictions)"
   ]
  },
  {
   "cell_type": "code",
   "execution_count": 13,
   "id": "085a6f9d",
   "metadata": {},
   "outputs": [
    {
     "name": "stdout",
     "output_type": "stream",
     "text": [
      "MSE:  602.1519476198682\n",
      "MAE:  18.605545343137255\n"
     ]
    }
   ],
   "source": [
    "from sklearn.metrics import mean_squared_error\n",
    "\n",
    "mse = mean_squared_error(y_test.values, predictions)\n",
    "print(\"MSE: \", mse)\n",
    "print(\"MAE: \", mae(y_test, predictions))"
   ]
  },
  {
   "cell_type": "markdown",
   "id": "7670fb5e",
   "metadata": {},
   "source": [
    "## Decision Tree Regressor"
   ]
  },
  {
   "cell_type": "code",
   "execution_count": 14,
   "id": "d6762bf0",
   "metadata": {},
   "outputs": [
    {
     "data": {
      "text/plain": [
       "DecisionTreeRegressor(max_depth=3)"
      ]
     },
     "execution_count": 14,
     "metadata": {},
     "output_type": "execute_result"
    }
   ],
   "source": [
    "from sklearn.tree import DecisionTreeRegressor\n",
    "\n",
    "regressor = DecisionTreeRegressor(max_depth=3)\n",
    "regressor.fit(X_train, y_train)"
   ]
  },
  {
   "cell_type": "code",
   "execution_count": 15,
   "id": "1344fefe",
   "metadata": {},
   "outputs": [],
   "source": [
    "predictions = model.predict(X_test)"
   ]
  },
  {
   "cell_type": "code",
   "execution_count": 16,
   "id": "2bca115e",
   "metadata": {},
   "outputs": [
    {
     "data": {
      "image/png": "[encoded data removed]",
      "text/plain": [
       "<Figure size 432x288 with 1 Axes>"
      ]
     },
     "metadata": {
      "needs_background": "light"
     },
     "output_type": "display_data"
    }
   ],
   "source": [
    "plotter(y_test, predictions)"
   ]
  },
  {
   "cell_type": "code",
   "execution_count": 17,
   "id": "43ea0803",
   "metadata": {},
   "outputs": [
    {
     "name": "stdout",
     "output_type": "stream",
     "text": [
      "MSE:  602.1519476198682\n",
      "MAE:  18.605545343137255\n"
     ]
    }
   ],
   "source": [
    "mse = mean_squared_error(y_test.values, predictions)\n",
    "\n",
    "print(\"MSE: \", mse)\n",
    "print(\"MAE: \", mae(y_test, predictions))"
   ]
  },
  {
   "cell_type": "markdown",
   "id": "cdf66fa3",
   "metadata": {},
   "source": [
    "## KNN Regressor"
   ]
  },
  {
   "cell_type": "code",
   "execution_count": 18,
   "id": "d0e18c9a",
   "metadata": {},
   "outputs": [
    {
     "data": {
      "text/plain": [
       "KNeighborsRegressor(n_neighbors=6)"
      ]
     },
     "execution_count": 18,
     "metadata": {},
     "output_type": "execute_result"
    }
   ],
   "source": [
    "from sklearn.neighbors import KNeighborsRegressor\n",
    "\n",
    "model = KNeighborsRegressor(n_neighbors=6)\n",
    "model.fit(X_train, y_train)"
   ]
  },
  {
   "cell_type": "code",
   "execution_count": 19,
   "id": "9f6502bd",
   "metadata": {},
   "outputs": [
    {
     "data": {
      "text/plain": [
       "array([176.83333333, 170.33333333, 193.83333333, 174.33333333,\n",
       "       168.66666667])"
      ]
     },
     "execution_count": 19,
     "metadata": {},
     "output_type": "execute_result"
    }
   ],
   "source": [
    "predictions = model.predict(X_test)\n",
    "predictions[:5]"
   ]
  },
  {
   "cell_type": "code",
   "execution_count": 20,
   "id": "667a813c",
   "metadata": {},
   "outputs": [
    {
     "data": {
      "image/png": "[encoded data removed]",
      "text/plain": [
       "<Figure size 432x288 with 1 Axes>"
      ]
     },
     "metadata": {
      "needs_background": "light"
     },
     "output_type": "display_data"
    }
   ],
   "source": [
    "plotter(y_test, predictions)"
   ]
  },
  {
   "cell_type": "code",
   "execution_count": 21,
   "id": "d319e6ee",
   "metadata": {},
   "outputs": [
    {
     "name": "stdout",
     "output_type": "stream",
     "text": [
      "MSE:  569.0708061002179\n",
      "MAE:  19.215686274509803\n"
     ]
    }
   ],
   "source": [
    "mse = mean_squared_error(y_test.values, predictions)\n",
    "print(\"MSE: \", mse)\n",
    "print(\"MAE: \", mae(y_test, predictions))"
   ]
  },
  {
   "cell_type": "markdown",
   "id": "66dd4b26",
   "metadata": {},
   "source": [
    "## Random Forest"
   ]
  },
  {
   "cell_type": "code",
   "execution_count": 22,
   "id": "8979c173",
   "metadata": {},
   "outputs": [
    {
     "data": {
      "text/plain": [
       "RandomForestRegressor(max_features=None, n_estimators=8)"
      ]
     },
     "execution_count": 22,
     "metadata": {},
     "output_type": "execute_result"
    }
   ],
   "source": [
    "from sklearn.ensemble import RandomForestRegressor\n",
    "lin = RandomForestRegressor(n_estimators=8,max_features=None)\n",
    "lin.fit(X_train,y_train)"
   ]
  },
  {
   "cell_type": "code",
   "execution_count": 23,
   "id": "904cc198",
   "metadata": {},
   "outputs": [],
   "source": [
    "predictions = lin.predict(X_test)"
   ]
  },
  {
   "cell_type": "code",
   "execution_count": 24,
   "id": "ab5d3c10",
   "metadata": {},
   "outputs": [
    {
     "data": {
      "image/png": "[encoded data removed]",
      "text/plain": [
       "<Figure size 432x288 with 1 Axes>"
      ]
     },
     "metadata": {
      "needs_background": "light"
     },
     "output_type": "display_data"
    }
   ],
   "source": [
    "plotter(y_test, predictions)"
   ]
  },
  {
   "cell_type": "code",
   "execution_count": 25,
   "id": "f49b3abd",
   "metadata": {},
   "outputs": [
    {
     "name": "stdout",
     "output_type": "stream",
     "text": [
      "MSE:  673.7450980392157\n",
      "MAE:  18.75980392156863\n"
     ]
    }
   ],
   "source": [
    "mse = mean_squared_error(y_test.values, predictions)\n",
    "print(\"MSE: \", mse)\n",
    "print(\"MAE: \", mae(y_test, predictions))"
   ]
  },
  {
   "cell_type": "code",
   "execution_count": null,
   "id": "cbe41f52",
   "metadata": {},
   "outputs": [],
   "source": []
  },
  {
   "cell_type": "code",
   "execution_count": null,
   "id": "f537ae75",
   "metadata": {},
   "outputs": [],
   "source": []
  }
 ],
 "metadata": {
  "kernelspec": {
   "display_name": "Python 3 (ipykernel)",
   "language": "python",
   "name": "python3"
  },
  "language_info": {
   "codemirror_mode": {
    "name": "ipython",
    "version": 3
   },
   "file_extension": ".py",
   "mimetype": "text/x-python",
   "name": "python",
   "nbconvert_exporter": "python",
   "pygments_lexer": "ipython3",
   "version": "3.9.7"
  }
 },
 "nbformat": 4,
 "nbformat_minor": 5
}
