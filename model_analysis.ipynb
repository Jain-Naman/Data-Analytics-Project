{
 "cells": [
  {
   "cell_type": "code",
   "execution_count": 1,
   "id": "08bfd89d",
   "metadata": {},
   "outputs": [],
   "source": [
    "import numpy as np\n",
    "import matplotlib.pyplot as plt\n",
    "import seaborn as sns\n",
    "import pandas as pd\n",
    "\n",
    "from sklearn.preprocessing import LabelEncoder\n",
    "from sklearn.ensemble import RandomForestClassifier\n",
    "from sklearn.linear_model import LinearRegression\n",
    "from sklearn.linear_model import LogisticRegression\n",
    "from sklearn.model_selection import train_test_split\n",
    "from sklearn.preprocessing import StandardScaler\n",
    "from sklearn.svm import SVC\n",
    "from sklearn.tree import DecisionTreeClassifier\n",
    "from sklearn.metrics import confusion_matrix, classification_report"
   ]
  },
  {
   "cell_type": "code",
   "execution_count": 7,
   "id": "de5bff7f",
   "metadata": {},
   "outputs": [
    {
     "data": {
      "text/html": [
       "<div>\n",
       "<style scoped>\n",
       "    .dataframe tbody tr th:only-of-type {\n",
       "        vertical-align: middle;\n",
       "    }\n",
       "\n",
       "    .dataframe tbody tr th {\n",
       "        vertical-align: top;\n",
       "    }\n",
       "\n",
       "    .dataframe thead th {\n",
       "        text-align: right;\n",
       "    }\n",
       "</style>\n",
       "<table border=\"1\" class=\"dataframe\">\n",
       "  <thead>\n",
       "    <tr style=\"text-align: right;\">\n",
       "      <th></th>\n",
       "      <th>id</th>\n",
       "      <th>inning</th>\n",
       "      <th>batting_team</th>\n",
       "      <th>toss_winner</th>\n",
       "      <th>toss_decision</th>\n",
       "      <th>city</th>\n",
       "      <th>winner</th>\n",
       "      <th>last_over</th>\n",
       "      <th>wickets</th>\n",
       "      <th>cum_score_6</th>\n",
       "      <th>fall_wickets_6</th>\n",
       "      <th>final_20</th>\n",
       "      <th>team_match_count</th>\n",
       "      <th>final_avg</th>\n",
       "      <th>batting_avg</th>\n",
       "      <th>run_rate_6</th>\n",
       "    </tr>\n",
       "  </thead>\n",
       "  <tbody>\n",
       "    <tr>\n",
       "      <th>0</th>\n",
       "      <td>1</td>\n",
       "      <td>1</td>\n",
       "      <td>Sunrisers Hyderabad</td>\n",
       "      <td>Royal Challengers Bangalore</td>\n",
       "      <td>field</td>\n",
       "      <td>Hyderabad</td>\n",
       "      <td>Sunrisers Hyderabad</td>\n",
       "      <td>17</td>\n",
       "      <td>4</td>\n",
       "      <td>59</td>\n",
       "      <td>1</td>\n",
       "      <td>207</td>\n",
       "      <td>1</td>\n",
       "      <td>0.0</td>\n",
       "      <td>161.263158</td>\n",
       "      <td>8.500000</td>\n",
       "    </tr>\n",
       "    <tr>\n",
       "      <th>4</th>\n",
       "      <td>5</td>\n",
       "      <td>1</td>\n",
       "      <td>Royal Challengers Bangalore</td>\n",
       "      <td>Royal Challengers Bangalore</td>\n",
       "      <td>bat</td>\n",
       "      <td>Bengaluru</td>\n",
       "      <td>Royal Challengers Bangalore</td>\n",
       "      <td>9</td>\n",
       "      <td>8</td>\n",
       "      <td>41</td>\n",
       "      <td>2</td>\n",
       "      <td>157</td>\n",
       "      <td>1</td>\n",
       "      <td>0.0</td>\n",
       "      <td>165.119048</td>\n",
       "      <td>8.035714</td>\n",
       "    </tr>\n",
       "    <tr>\n",
       "      <th>8</th>\n",
       "      <td>9</td>\n",
       "      <td>1</td>\n",
       "      <td>Delhi Daredevils</td>\n",
       "      <td>Rising Pune Supergiants</td>\n",
       "      <td>field</td>\n",
       "      <td>Pune</td>\n",
       "      <td>Delhi Daredevils</td>\n",
       "      <td>15</td>\n",
       "      <td>4</td>\n",
       "      <td>62</td>\n",
       "      <td>1</td>\n",
       "      <td>205</td>\n",
       "      <td>1</td>\n",
       "      <td>0.0</td>\n",
       "      <td>163.833333</td>\n",
       "      <td>8.255051</td>\n",
       "    </tr>\n",
       "    <tr>\n",
       "      <th>13</th>\n",
       "      <td>14</td>\n",
       "      <td>1</td>\n",
       "      <td>Kolkata Knight Riders</td>\n",
       "      <td>Sunrisers Hyderabad</td>\n",
       "      <td>field</td>\n",
       "      <td>Kolkata</td>\n",
       "      <td>Kolkata Knight Riders</td>\n",
       "      <td>7</td>\n",
       "      <td>6</td>\n",
       "      <td>40</td>\n",
       "      <td>2</td>\n",
       "      <td>172</td>\n",
       "      <td>1</td>\n",
       "      <td>177.5</td>\n",
       "      <td>159.032967</td>\n",
       "      <td>8.250916</td>\n",
       "    </tr>\n",
       "    <tr>\n",
       "      <th>14</th>\n",
       "      <td>15</td>\n",
       "      <td>1</td>\n",
       "      <td>Delhi Daredevils</td>\n",
       "      <td>Delhi Daredevils</td>\n",
       "      <td>bat</td>\n",
       "      <td>Delhi</td>\n",
       "      <td>Delhi Daredevils</td>\n",
       "      <td>8</td>\n",
       "      <td>6</td>\n",
       "      <td>49</td>\n",
       "      <td>0</td>\n",
       "      <td>188</td>\n",
       "      <td>1</td>\n",
       "      <td>205.0</td>\n",
       "      <td>163.833333</td>\n",
       "      <td>8.255051</td>\n",
       "    </tr>\n",
       "  </tbody>\n",
       "</table>\n",
       "</div>"
      ],
      "text/plain": [
       "    id  inning                 batting_team                  toss_winner  \\\n",
       "0    1       1          Sunrisers Hyderabad  Royal Challengers Bangalore   \n",
       "4    5       1  Royal Challengers Bangalore  Royal Challengers Bangalore   \n",
       "8    9       1             Delhi Daredevils      Rising Pune Supergiants   \n",
       "13  14       1        Kolkata Knight Riders          Sunrisers Hyderabad   \n",
       "14  15       1             Delhi Daredevils             Delhi Daredevils   \n",
       "\n",
       "   toss_decision       city                       winner  last_over  wickets  \\\n",
       "0          field  Hyderabad          Sunrisers Hyderabad         17        4   \n",
       "4            bat  Bengaluru  Royal Challengers Bangalore          9        8   \n",
       "8          field       Pune             Delhi Daredevils         15        4   \n",
       "13         field    Kolkata        Kolkata Knight Riders          7        6   \n",
       "14           bat      Delhi             Delhi Daredevils          8        6   \n",
       "\n",
       "    cum_score_6  fall_wickets_6  final_20  team_match_count  final_avg  \\\n",
       "0            59               1       207                 1        0.0   \n",
       "4            41               2       157                 1        0.0   \n",
       "8            62               1       205                 1        0.0   \n",
       "13           40               2       172                 1      177.5   \n",
       "14           49               0       188                 1      205.0   \n",
       "\n",
       "    batting_avg  run_rate_6  \n",
       "0    161.263158    8.500000  \n",
       "4    165.119048    8.035714  \n",
       "8    163.833333    8.255051  \n",
       "13   159.032967    8.250916  \n",
       "14   163.833333    8.255051  "
      ]
     },
     "execution_count": 7,
     "metadata": {},
     "output_type": "execute_result"
    }
   ],
   "source": [
    "final = pd.read_csv('./dataset/ipl/prediction_df.csv')\n",
    "final = final.iloc[:, 1:]\n",
    "final = final[final['inning']==1]\n",
    "final.head()"
   ]
  },
  {
   "cell_type": "code",
   "execution_count": 9,
   "id": "d72e9b43",
   "metadata": {},
   "outputs": [
    {
     "data": {
      "text/html": [
       "<div>\n",
       "<style scoped>\n",
       "    .dataframe tbody tr th:only-of-type {\n",
       "        vertical-align: middle;\n",
       "    }\n",
       "\n",
       "    .dataframe tbody tr th {\n",
       "        vertical-align: top;\n",
       "    }\n",
       "\n",
       "    .dataframe thead th {\n",
       "        text-align: right;\n",
       "    }\n",
       "</style>\n",
       "<table border=\"1\" class=\"dataframe\">\n",
       "  <thead>\n",
       "    <tr style=\"text-align: right;\">\n",
       "      <th></th>\n",
       "      <th>inning</th>\n",
       "      <th>cum_score_6</th>\n",
       "      <th>fall_wickets_6</th>\n",
       "      <th>final_avg</th>\n",
       "      <th>batting_team_Chennai Super Kings</th>\n",
       "      <th>batting_team_Deccan Chargers</th>\n",
       "      <th>batting_team_Delhi Capitals</th>\n",
       "      <th>batting_team_Delhi Daredevils</th>\n",
       "      <th>batting_team_Gujarat Lions</th>\n",
       "      <th>batting_team_Kings XI Punjab</th>\n",
       "      <th>...</th>\n",
       "      <th>city_Mohali</th>\n",
       "      <th>city_Mumbai</th>\n",
       "      <th>city_Nagpur</th>\n",
       "      <th>city_Port Elizabeth</th>\n",
       "      <th>city_Pune</th>\n",
       "      <th>city_Raipur</th>\n",
       "      <th>city_Rajkot</th>\n",
       "      <th>city_Ranchi</th>\n",
       "      <th>city_Sharjah</th>\n",
       "      <th>city_Visakhapatnam</th>\n",
       "    </tr>\n",
       "  </thead>\n",
       "  <tbody>\n",
       "    <tr>\n",
       "      <th>0</th>\n",
       "      <td>1</td>\n",
       "      <td>0.986210</td>\n",
       "      <td>1</td>\n",
       "      <td>-7.268071</td>\n",
       "      <td>0</td>\n",
       "      <td>0</td>\n",
       "      <td>0</td>\n",
       "      <td>0</td>\n",
       "      <td>0</td>\n",
       "      <td>0</td>\n",
       "      <td>...</td>\n",
       "      <td>0</td>\n",
       "      <td>0</td>\n",
       "      <td>0</td>\n",
       "      <td>0</td>\n",
       "      <td>0</td>\n",
       "      <td>0</td>\n",
       "      <td>0</td>\n",
       "      <td>0</td>\n",
       "      <td>0</td>\n",
       "      <td>0</td>\n",
       "    </tr>\n",
       "    <tr>\n",
       "      <th>4</th>\n",
       "      <td>1</td>\n",
       "      <td>-0.592459</td>\n",
       "      <td>2</td>\n",
       "      <td>-7.268071</td>\n",
       "      <td>0</td>\n",
       "      <td>0</td>\n",
       "      <td>0</td>\n",
       "      <td>0</td>\n",
       "      <td>0</td>\n",
       "      <td>0</td>\n",
       "      <td>...</td>\n",
       "      <td>0</td>\n",
       "      <td>0</td>\n",
       "      <td>0</td>\n",
       "      <td>0</td>\n",
       "      <td>0</td>\n",
       "      <td>0</td>\n",
       "      <td>0</td>\n",
       "      <td>0</td>\n",
       "      <td>0</td>\n",
       "      <td>0</td>\n",
       "    </tr>\n",
       "    <tr>\n",
       "      <th>8</th>\n",
       "      <td>1</td>\n",
       "      <td>1.249322</td>\n",
       "      <td>1</td>\n",
       "      <td>-7.268071</td>\n",
       "      <td>0</td>\n",
       "      <td>0</td>\n",
       "      <td>0</td>\n",
       "      <td>1</td>\n",
       "      <td>0</td>\n",
       "      <td>0</td>\n",
       "      <td>...</td>\n",
       "      <td>0</td>\n",
       "      <td>0</td>\n",
       "      <td>0</td>\n",
       "      <td>0</td>\n",
       "      <td>1</td>\n",
       "      <td>0</td>\n",
       "      <td>0</td>\n",
       "      <td>0</td>\n",
       "      <td>0</td>\n",
       "      <td>0</td>\n",
       "    </tr>\n",
       "    <tr>\n",
       "      <th>13</th>\n",
       "      <td>1</td>\n",
       "      <td>-0.680163</td>\n",
       "      <td>2</td>\n",
       "      <td>0.853465</td>\n",
       "      <td>0</td>\n",
       "      <td>0</td>\n",
       "      <td>0</td>\n",
       "      <td>0</td>\n",
       "      <td>0</td>\n",
       "      <td>0</td>\n",
       "      <td>...</td>\n",
       "      <td>0</td>\n",
       "      <td>0</td>\n",
       "      <td>0</td>\n",
       "      <td>0</td>\n",
       "      <td>0</td>\n",
       "      <td>0</td>\n",
       "      <td>0</td>\n",
       "      <td>0</td>\n",
       "      <td>0</td>\n",
       "      <td>0</td>\n",
       "    </tr>\n",
       "    <tr>\n",
       "      <th>14</th>\n",
       "      <td>1</td>\n",
       "      <td>0.109172</td>\n",
       "      <td>0</td>\n",
       "      <td>2.111731</td>\n",
       "      <td>0</td>\n",
       "      <td>0</td>\n",
       "      <td>0</td>\n",
       "      <td>1</td>\n",
       "      <td>0</td>\n",
       "      <td>0</td>\n",
       "      <td>...</td>\n",
       "      <td>0</td>\n",
       "      <td>0</td>\n",
       "      <td>0</td>\n",
       "      <td>0</td>\n",
       "      <td>0</td>\n",
       "      <td>0</td>\n",
       "      <td>0</td>\n",
       "      <td>0</td>\n",
       "      <td>0</td>\n",
       "      <td>0</td>\n",
       "    </tr>\n",
       "  </tbody>\n",
       "</table>\n",
       "<p>5 rows × 48 columns</p>\n",
       "</div>"
      ],
      "text/plain": [
       "    inning  cum_score_6  fall_wickets_6  final_avg  \\\n",
       "0        1     0.986210               1  -7.268071   \n",
       "4        1    -0.592459               2  -7.268071   \n",
       "8        1     1.249322               1  -7.268071   \n",
       "13       1    -0.680163               2   0.853465   \n",
       "14       1     0.109172               0   2.111731   \n",
       "\n",
       "    batting_team_Chennai Super Kings  batting_team_Deccan Chargers  \\\n",
       "0                                  0                             0   \n",
       "4                                  0                             0   \n",
       "8                                  0                             0   \n",
       "13                                 0                             0   \n",
       "14                                 0                             0   \n",
       "\n",
       "    batting_team_Delhi Capitals  batting_team_Delhi Daredevils  \\\n",
       "0                             0                              0   \n",
       "4                             0                              0   \n",
       "8                             0                              1   \n",
       "13                            0                              0   \n",
       "14                            0                              1   \n",
       "\n",
       "    batting_team_Gujarat Lions  batting_team_Kings XI Punjab  ...  \\\n",
       "0                            0                             0  ...   \n",
       "4                            0                             0  ...   \n",
       "8                            0                             0  ...   \n",
       "13                           0                             0  ...   \n",
       "14                           0                             0  ...   \n",
       "\n",
       "    city_Mohali  city_Mumbai  city_Nagpur  city_Port Elizabeth  city_Pune  \\\n",
       "0             0            0            0                    0          0   \n",
       "4             0            0            0                    0          0   \n",
       "8             0            0            0                    0          1   \n",
       "13            0            0            0                    0          0   \n",
       "14            0            0            0                    0          0   \n",
       "\n",
       "    city_Raipur  city_Rajkot  city_Ranchi  city_Sharjah  city_Visakhapatnam  \n",
       "0             0            0            0             0                   0  \n",
       "4             0            0            0             0                   0  \n",
       "8             0            0            0             0                   0  \n",
       "13            0            0            0             0                   0  \n",
       "14            0            0            0             0                   0  \n",
       "\n",
       "[5 rows x 48 columns]"
      ]
     },
     "execution_count": 9,
     "metadata": {},
     "output_type": "execute_result"
    }
   ],
   "source": [
    "X = final.drop(columns=['id','toss_winner','toss_decision','winner','last_over','wickets','team_match_count','batting_avg','run_rate_6','final_20',])\n",
    "\n",
    "# X['city'] = LabelEncoder().fit_transform(X['city'])\n",
    "X['final_avg'] = (X['final_avg'] - X['final_avg'].mean())/X['final_avg'].std()\n",
    "X['cum_score_6'] = (X['cum_score_6'] - X['cum_score_6'].mean())/X['cum_score_6'].std()\n",
    "\n",
    "X = pd.get_dummies(data=X, drop_first=False)\n",
    "X.head()"
   ]
  },
  {
   "cell_type": "code",
   "execution_count": 11,
   "id": "d13bb171",
   "metadata": {},
   "outputs": [
    {
     "data": {
      "text/plain": [
       "0     207\n",
       "4     157\n",
       "8     205\n",
       "13    172\n",
       "14    188\n",
       "Name: final_20, dtype: int64"
      ]
     },
     "execution_count": 11,
     "metadata": {},
     "output_type": "execute_result"
    }
   ],
   "source": [
    "Y = final['final_20']\n",
    "Y.head()"
   ]
  },
  {
   "cell_type": "code",
   "execution_count": 12,
   "id": "e3237099",
   "metadata": {},
   "outputs": [
    {
     "name": "stdout",
     "output_type": "stream",
     "text": [
      "X_train shape:  (284, 48)\n",
      "X_test shape:  (51, 48)\n",
      "y_train shape:  (284,)\n",
      "y_test shape:  (51,)\n"
     ]
    }
   ],
   "source": [
    "X_train, X_test, y_train, y_test = train_test_split(X, Y, test_size=0.15, random_state=101)\n",
    "\n",
    "print(\"X_train shape: \", X_train.shape)\n",
    "print(\"X_test shape: \", X_test.shape)\n",
    "print(\"y_train shape: \", y_train.shape)\n",
    "print(\"y_test shape: \", y_test.shape)"
   ]
  },
  {
   "cell_type": "code",
   "execution_count": 10,
   "id": "0eee2bbd",
   "metadata": {},
   "outputs": [],
   "source": [
    "def mae(y, pred):\n",
    "    return np.absolute(pred - y).sum()/len(y)"
   ]
  },
  {
   "cell_type": "code",
   "execution_count": 20,
   "id": "1cba89b5",
   "metadata": {},
   "outputs": [],
   "source": [
    "def plotter(y, pred):\n",
    "    plt.figure(figsize=(6,4))\n",
    "    a = plt.axes(aspect='equal')\n",
    "    plt.scatter(y, pred)\n",
    "    plt.xlabel('True Values')\n",
    "    plt.ylabel('Predictions')\n",
    "    lims = [50, 250]\n",
    "    plt.xlim(lims)\n",
    "    plt.ylim(lims)\n",
    "    _ = plt.plot(lims, lims)"
   ]
  },
  {
   "cell_type": "markdown",
   "id": "a2233f44",
   "metadata": {},
   "source": [
    "## Linear Regression"
   ]
  },
  {
   "cell_type": "code",
   "execution_count": 21,
   "id": "3100f91f",
   "metadata": {},
   "outputs": [
    {
     "data": {
      "text/plain": [
       "LinearRegression()"
      ]
     },
     "execution_count": 21,
     "metadata": {},
     "output_type": "execute_result"
    }
   ],
   "source": [
    "model = LinearRegression()\n",
    "model.fit(X_train, y_train)"
   ]
  },
  {
   "cell_type": "code",
   "execution_count": 22,
   "id": "7a830e6c",
   "metadata": {},
   "outputs": [
    {
     "data": {
      "text/html": [
       "<div>\n",
       "<style scoped>\n",
       "    .dataframe tbody tr th:only-of-type {\n",
       "        vertical-align: middle;\n",
       "    }\n",
       "\n",
       "    .dataframe tbody tr th {\n",
       "        vertical-align: top;\n",
       "    }\n",
       "\n",
       "    .dataframe thead th {\n",
       "        text-align: right;\n",
       "    }\n",
       "</style>\n",
       "<table border=\"1\" class=\"dataframe\">\n",
       "  <thead>\n",
       "    <tr style=\"text-align: right;\">\n",
       "      <th></th>\n",
       "      <th>inning</th>\n",
       "      <th>cum_score_6</th>\n",
       "      <th>fall_wickets_6</th>\n",
       "      <th>final_avg</th>\n",
       "      <th>batting_team_Chennai Super Kings</th>\n",
       "      <th>batting_team_Deccan Chargers</th>\n",
       "      <th>batting_team_Delhi Capitals</th>\n",
       "      <th>batting_team_Delhi Daredevils</th>\n",
       "      <th>batting_team_Gujarat Lions</th>\n",
       "      <th>batting_team_Kings XI Punjab</th>\n",
       "      <th>...</th>\n",
       "      <th>city_Mohali</th>\n",
       "      <th>city_Mumbai</th>\n",
       "      <th>city_Nagpur</th>\n",
       "      <th>city_Port Elizabeth</th>\n",
       "      <th>city_Pune</th>\n",
       "      <th>city_Raipur</th>\n",
       "      <th>city_Rajkot</th>\n",
       "      <th>city_Ranchi</th>\n",
       "      <th>city_Sharjah</th>\n",
       "      <th>city_Visakhapatnam</th>\n",
       "    </tr>\n",
       "  </thead>\n",
       "  <tbody>\n",
       "    <tr>\n",
       "      <th>Coefficient</th>\n",
       "      <td>6.433566e-16</td>\n",
       "      <td>8.724471</td>\n",
       "      <td>-8.119422</td>\n",
       "      <td>-2.615864</td>\n",
       "      <td>21.110549</td>\n",
       "      <td>-2.09842</td>\n",
       "      <td>4.395437</td>\n",
       "      <td>11.953769</td>\n",
       "      <td>-28.076092</td>\n",
       "      <td>6.924242</td>\n",
       "      <td>...</td>\n",
       "      <td>-3.094264</td>\n",
       "      <td>-7.73175</td>\n",
       "      <td>-9.440953</td>\n",
       "      <td>-36.568051</td>\n",
       "      <td>-11.237309</td>\n",
       "      <td>-8.828757</td>\n",
       "      <td>-11.011005</td>\n",
       "      <td>-47.576533</td>\n",
       "      <td>-8.941154</td>\n",
       "      <td>-6.828109</td>\n",
       "    </tr>\n",
       "  </tbody>\n",
       "</table>\n",
       "<p>1 rows × 48 columns</p>\n",
       "</div>"
      ],
      "text/plain": [
       "                   inning  cum_score_6  fall_wickets_6  final_avg  \\\n",
       "Coefficient  6.433566e-16     8.724471       -8.119422  -2.615864   \n",
       "\n",
       "             batting_team_Chennai Super Kings  batting_team_Deccan Chargers  \\\n",
       "Coefficient                         21.110549                      -2.09842   \n",
       "\n",
       "             batting_team_Delhi Capitals  batting_team_Delhi Daredevils  \\\n",
       "Coefficient                     4.395437                      11.953769   \n",
       "\n",
       "             batting_team_Gujarat Lions  batting_team_Kings XI Punjab  ...  \\\n",
       "Coefficient                  -28.076092                      6.924242  ...   \n",
       "\n",
       "             city_Mohali  city_Mumbai  city_Nagpur  city_Port Elizabeth  \\\n",
       "Coefficient    -3.094264     -7.73175    -9.440953           -36.568051   \n",
       "\n",
       "             city_Pune  city_Raipur  city_Rajkot  city_Ranchi  city_Sharjah  \\\n",
       "Coefficient -11.237309    -8.828757   -11.011005   -47.576533     -8.941154   \n",
       "\n",
       "             city_Visakhapatnam  \n",
       "Coefficient           -6.828109  \n",
       "\n",
       "[1 rows x 48 columns]"
      ]
     },
     "execution_count": 22,
     "metadata": {},
     "output_type": "execute_result"
    }
   ],
   "source": [
    "coeff_parameter = pd.DataFrame(model.coef_,X.columns,columns=['Coefficient'])\n",
    "coeff_parameter.transpose()"
   ]
  },
  {
   "cell_type": "code",
   "execution_count": 23,
   "id": "79a6dbc4",
   "metadata": {},
   "outputs": [
    {
     "data": {
      "text/plain": [
       "array([172.33537075, 140.31588134, 184.11920316, 174.88406633,\n",
       "       173.39965771])"
      ]
     },
     "execution_count": 23,
     "metadata": {},
     "output_type": "execute_result"
    }
   ],
   "source": [
    "predictions = model.predict(X_test)\n",
    "predictions[:5]"
   ]
  },
  {
   "cell_type": "code",
   "execution_count": 24,
   "id": "7b29defb",
   "metadata": {},
   "outputs": [
    {
     "data": {
      "image/png": "[encoded data removed]",
      "text/plain": [
       "<Figure size 432x288 with 1 Axes>"
      ]
     },
     "metadata": {
      "needs_background": "light"
     },
     "output_type": "display_data"
    }
   ],
   "source": [
    "plotter(y_test, predictions)"
   ]
  },
  {
   "cell_type": "code",
   "execution_count": 25,
   "id": "7b39bc6a",
   "metadata": {},
   "outputs": [
    {
     "name": "stderr",
     "output_type": "stream",
     "text": [
      "C:\\Users\\naman\\anaconda3\\envs\\dap\\lib\\site-packages\\seaborn\\_decorators.py:36: FutureWarning: Pass the following variables as keyword args: x, y. From version 0.12, the only valid positional argument will be `data`, and passing other arguments without an explicit keyword will result in an error or misinterpretation.\n",
      "  warnings.warn(\n"
     ]
    },
    {
     "data": {
      "text/plain": [
       "<AxesSubplot:xlabel='final_20'>"
      ]
     },
     "execution_count": 25,
     "metadata": {},
     "output_type": "execute_result"
    },
    {
     "data": {
      "image/png": "[encoded data removed]",
      "text/plain": [
       "<Figure size 432x288 with 1 Axes>"
      ]
     },
     "metadata": {
      "needs_background": "light"
     },
     "output_type": "display_data"
    }
   ],
   "source": [
    "sns.regplot(y_test,predictions)"
   ]
  },
  {
   "cell_type": "code",
   "execution_count": 26,
   "id": "085a6f9d",
   "metadata": {},
   "outputs": [
    {
     "name": "stdout",
     "output_type": "stream",
     "text": [
      "MSE:  602.8556975049702\n",
      "R2 Score:  0.1611048026916786\n",
      "MAE:  18.616584502922866\n"
     ]
    }
   ],
   "source": [
    "from sklearn.metrics import mean_squared_error\n",
    "from sklearn.metrics import r2_score\n",
    "\n",
    "mse = mean_squared_error(y_test.values, predictions)\n",
    "r2 = r2_score(y_test.values, predictions)\n",
    "print(\"MSE: \", mse)\n",
    "print(\"R2 Score: \", r2)\n",
    "print(\"MAE: \", mae(y_test, predictions))"
   ]
  },
  {
   "cell_type": "code",
   "execution_count": 27,
   "id": "8b566cb2",
   "metadata": {},
   "outputs": [
    {
     "name": "stderr",
     "output_type": "stream",
     "text": [
      "C:\\Users\\naman\\anaconda3\\envs\\dap\\lib\\site-packages\\seaborn\\_decorators.py:36: FutureWarning: Pass the following variables as keyword args: x, y. From version 0.12, the only valid positional argument will be `data`, and passing other arguments without an explicit keyword will result in an error or misinterpretation.\n",
      "  warnings.warn(\n"
     ]
    },
    {
     "data": {
      "image/png": "[encoded data removed]",
      "text/plain": [
       "<Figure size 432x288 with 1 Axes>"
      ]
     },
     "metadata": {
      "needs_background": "light"
     },
     "output_type": "display_data"
    }
   ],
   "source": [
    "residuals = y_test-predictions\n",
    "sns.regplot(residuals, predictions)\n",
    "plt.show()"
   ]
  },
  {
   "cell_type": "markdown",
   "id": "6951b2eb",
   "metadata": {},
   "source": [
    "## Ridge Regression"
   ]
  },
  {
   "cell_type": "code",
   "execution_count": 28,
   "id": "a80af218",
   "metadata": {},
   "outputs": [
    {
     "data": {
      "text/plain": [
       "Ridge(alpha=1.8)"
      ]
     },
     "execution_count": 28,
     "metadata": {},
     "output_type": "execute_result"
    }
   ],
   "source": [
    "from sklearn.linear_model import Ridge\n",
    "\n",
    "model = Ridge(alpha=1.8)\n",
    "model.fit(X_train, y_train)"
   ]
  },
  {
   "cell_type": "code",
   "execution_count": 29,
   "id": "f0b2376b",
   "metadata": {},
   "outputs": [
    {
     "data": {
      "text/plain": [
       "array([175.37146179, 148.18580955, 184.50396159, 173.91511906,\n",
       "       173.56657804])"
      ]
     },
     "execution_count": 29,
     "metadata": {},
     "output_type": "execute_result"
    }
   ],
   "source": [
    "predictions = model.predict(X_test)\n",
    "predictions[:5]"
   ]
  },
  {
   "cell_type": "code",
   "execution_count": 30,
   "id": "23853d5e",
   "metadata": {},
   "outputs": [
    {
     "data": {
      "image/png": "[encoded data removed]",
      "text/plain": [
       "<Figure size 432x288 with 1 Axes>"
      ]
     },
     "metadata": {
      "needs_background": "light"
     },
     "output_type": "display_data"
    }
   ],
   "source": [
    "plotter(y_test, predictions)"
   ]
  },
  {
   "cell_type": "code",
   "execution_count": 31,
   "id": "79a643e7",
   "metadata": {},
   "outputs": [
    {
     "name": "stderr",
     "output_type": "stream",
     "text": [
      "C:\\Users\\naman\\anaconda3\\envs\\dap\\lib\\site-packages\\seaborn\\_decorators.py:36: FutureWarning: Pass the following variables as keyword args: x, y. From version 0.12, the only valid positional argument will be `data`, and passing other arguments without an explicit keyword will result in an error or misinterpretation.\n",
      "  warnings.warn(\n"
     ]
    },
    {
     "data": {
      "text/plain": [
       "<AxesSubplot:xlabel='final_20'>"
      ]
     },
     "execution_count": 31,
     "metadata": {},
     "output_type": "execute_result"
    },
    {
     "data": {
      "image/png": "[encoded data removed]",
      "text/plain": [
       "<Figure size 432x288 with 1 Axes>"
      ]
     },
     "metadata": {
      "needs_background": "light"
     },
     "output_type": "display_data"
    }
   ],
   "source": [
    "sns.regplot(y_test,predictions)"
   ]
  },
  {
   "cell_type": "code",
   "execution_count": 32,
   "id": "02627655",
   "metadata": {},
   "outputs": [
    {
     "name": "stdout",
     "output_type": "stream",
     "text": [
      "MSE:  541.4715118221129\n",
      "R2 Score:  0.24652308566246628\n",
      "MAE:  18.0740863205334\n"
     ]
    }
   ],
   "source": [
    "mse = mean_squared_error(y_test.values, predictions)\n",
    "r2 = r2_score(y_test.values, predictions)\n",
    "print(\"MSE: \", mse)\n",
    "print(\"R2 Score: \", r2)\n",
    "print(\"MAE: \", mae(y_test, predictions))"
   ]
  },
  {
   "cell_type": "code",
   "execution_count": 33,
   "id": "2ec74f11",
   "metadata": {},
   "outputs": [
    {
     "name": "stderr",
     "output_type": "stream",
     "text": [
      "C:\\Users\\naman\\anaconda3\\envs\\dap\\lib\\site-packages\\seaborn\\_decorators.py:36: FutureWarning: Pass the following variables as keyword args: x, y. From version 0.12, the only valid positional argument will be `data`, and passing other arguments without an explicit keyword will result in an error or misinterpretation.\n",
      "  warnings.warn(\n"
     ]
    },
    {
     "data": {
      "image/png": "[encoded data removed]",
      "text/plain": [
       "<Figure size 432x288 with 1 Axes>"
      ]
     },
     "metadata": {
      "needs_background": "light"
     },
     "output_type": "display_data"
    }
   ],
   "source": [
    "residuals = y_test-predictions\n",
    "sns.regplot(residuals, predictions)\n",
    "plt.show()"
   ]
  },
  {
   "cell_type": "markdown",
   "id": "7670fb5e",
   "metadata": {},
   "source": [
    "## Decision Tree Regressor"
   ]
  },
  {
   "cell_type": "code",
   "execution_count": 34,
   "id": "d6762bf0",
   "metadata": {},
   "outputs": [
    {
     "data": {
      "text/plain": [
       "DecisionTreeRegressor(max_depth=3)"
      ]
     },
     "execution_count": 34,
     "metadata": {},
     "output_type": "execute_result"
    }
   ],
   "source": [
    "from sklearn.tree import DecisionTreeRegressor\n",
    "\n",
    "regressor = DecisionTreeRegressor(max_depth=3)\n",
    "regressor.fit(X_train, y_train)"
   ]
  },
  {
   "cell_type": "code",
   "execution_count": 35,
   "id": "1344fefe",
   "metadata": {},
   "outputs": [],
   "source": [
    "predictions = model.predict(X_test)"
   ]
  },
  {
   "cell_type": "code",
   "execution_count": 36,
   "id": "565b8086",
   "metadata": {},
   "outputs": [
    {
     "data": {
      "image/png": "[encoded data removed]",
      "text/plain": [
       "<Figure size 432x288 with 1 Axes>"
      ]
     },
     "metadata": {
      "needs_background": "light"
     },
     "output_type": "display_data"
    }
   ],
   "source": [
    "plotter(y_test, predictions)"
   ]
  },
  {
   "cell_type": "code",
   "execution_count": 37,
   "id": "49b16fde",
   "metadata": {},
   "outputs": [
    {
     "name": "stderr",
     "output_type": "stream",
     "text": [
      "C:\\Users\\naman\\anaconda3\\envs\\dap\\lib\\site-packages\\seaborn\\_decorators.py:36: FutureWarning: Pass the following variables as keyword args: x, y. From version 0.12, the only valid positional argument will be `data`, and passing other arguments without an explicit keyword will result in an error or misinterpretation.\n",
      "  warnings.warn(\n"
     ]
    },
    {
     "data": {
      "text/plain": [
       "<AxesSubplot:xlabel='final_20'>"
      ]
     },
     "execution_count": 37,
     "metadata": {},
     "output_type": "execute_result"
    },
    {
     "data": {
      "image/png": "[encoded data removed]",
      "text/plain": [
       "<Figure size 432x288 with 1 Axes>"
      ]
     },
     "metadata": {
      "needs_background": "light"
     },
     "output_type": "display_data"
    }
   ],
   "source": [
    "sns.regplot(y_test,predictions)"
   ]
  },
  {
   "cell_type": "code",
   "execution_count": 38,
   "id": "43ea0803",
   "metadata": {},
   "outputs": [
    {
     "name": "stdout",
     "output_type": "stream",
     "text": [
      "MSE:  541.4715118221129\n",
      "R2 Score:  0.24652308566246628\n",
      "MAE:  18.0740863205334\n"
     ]
    }
   ],
   "source": [
    "mse = mean_squared_error(y_test.values, predictions)\n",
    "r2 = r2_score(y_test.values, predictions)\n",
    "print(\"MSE: \", mse)\n",
    "print(\"R2 Score: \", r2)\n",
    "print(\"MAE: \", mae(y_test, predictions))"
   ]
  },
  {
   "cell_type": "markdown",
   "id": "cdf66fa3",
   "metadata": {},
   "source": [
    "## KNN Regressor"
   ]
  },
  {
   "cell_type": "code",
   "execution_count": 42,
   "id": "d0e18c9a",
   "metadata": {},
   "outputs": [
    {
     "data": {
      "text/plain": [
       "KNeighborsRegressor(n_neighbors=16)"
      ]
     },
     "execution_count": 42,
     "metadata": {},
     "output_type": "execute_result"
    }
   ],
   "source": [
    "from sklearn.neighbors import KNeighborsRegressor\n",
    "\n",
    "model = KNeighborsRegressor(n_neighbors=16)\n",
    "model.fit(X_train, y_train)"
   ]
  },
  {
   "cell_type": "code",
   "execution_count": 43,
   "id": "9f6502bd",
   "metadata": {},
   "outputs": [
    {
     "data": {
      "text/plain": [
       "array([187.25  , 159.    , 187.375 , 186.0625, 173.    ])"
      ]
     },
     "execution_count": 43,
     "metadata": {},
     "output_type": "execute_result"
    }
   ],
   "source": [
    "predictions = model.predict(X_test)\n",
    "predictions[:5]"
   ]
  },
  {
   "cell_type": "code",
   "execution_count": 44,
   "id": "24f5135b",
   "metadata": {},
   "outputs": [
    {
     "data": {
      "image/png": "[encoded data removed]",
      "text/plain": [
       "<Figure size 432x288 with 1 Axes>"
      ]
     },
     "metadata": {
      "needs_background": "light"
     },
     "output_type": "display_data"
    }
   ],
   "source": [
    "plotter(y_test, predictions)"
   ]
  },
  {
   "cell_type": "code",
   "execution_count": 45,
   "id": "018321b7",
   "metadata": {},
   "outputs": [
    {
     "name": "stderr",
     "output_type": "stream",
     "text": [
      "C:\\Users\\naman\\anaconda3\\envs\\dap\\lib\\site-packages\\seaborn\\_decorators.py:36: FutureWarning: Pass the following variables as keyword args: x, y. From version 0.12, the only valid positional argument will be `data`, and passing other arguments without an explicit keyword will result in an error or misinterpretation.\n",
      "  warnings.warn(\n"
     ]
    },
    {
     "data": {
      "text/plain": [
       "<AxesSubplot:xlabel='final_20'>"
      ]
     },
     "execution_count": 45,
     "metadata": {},
     "output_type": "execute_result"
    },
    {
     "data": {
      "image/png": "[encoded data removed]",
      "text/plain": [
       "<Figure size 432x288 with 1 Axes>"
      ]
     },
     "metadata": {
      "needs_background": "light"
     },
     "output_type": "display_data"
    }
   ],
   "source": [
    "sns.regplot(y_test,predictions)"
   ]
  },
  {
   "cell_type": "code",
   "execution_count": 46,
   "id": "d319e6ee",
   "metadata": {},
   "outputs": [
    {
     "name": "stdout",
     "output_type": "stream",
     "text": [
      "MSE:  543.0497089460785\n",
      "R2 Score:  0.24432696809539378\n",
      "MAE:  18.214460784313726\n"
     ]
    }
   ],
   "source": [
    "mse = mean_squared_error(y_test.values, predictions)\n",
    "r2 = r2_score(y_test.values, predictions)\n",
    "print(\"MSE: \", mse)\n",
    "print(\"R2 Score: \", r2)\n",
    "print(\"MAE: \", mae(y_test, predictions))"
   ]
  },
  {
   "cell_type": "code",
   "execution_count": 41,
   "id": "a44f91e1",
   "metadata": {},
   "outputs": [
    {
     "name": "stderr",
     "output_type": "stream",
     "text": [
      "C:\\Users\\naman\\anaconda3\\envs\\dap\\lib\\site-packages\\seaborn\\_decorators.py:36: FutureWarning: Pass the following variables as keyword args: x, y. From version 0.12, the only valid positional argument will be `data`, and passing other arguments without an explicit keyword will result in an error or misinterpretation.\n",
      "  warnings.warn(\n"
     ]
    },
    {
     "data": {
      "text/plain": [
       "<AxesSubplot:>"
      ]
     },
     "execution_count": 41,
     "metadata": {},
     "output_type": "execute_result"
    },
    {
     "data": {
      "image/png": "[encoded data removed]",
      "text/plain": [
       "<Figure size 432x288 with 1 Axes>"
      ]
     },
     "metadata": {
      "needs_background": "light"
     },
     "output_type": "display_data"
    }
   ],
   "source": [
    "k = []\n",
    "maes = []\n",
    "\n",
    "for i in range(3, 20):\n",
    "    model = KNeighborsRegressor(n_neighbors=i)\n",
    "    model.fit(X_train, y_train)\n",
    "    predictions = model.predict(X_test)\n",
    "    k.append(i)\n",
    "    maes.append(mae(y_test, predictions))\n",
    "\n",
    "sns.lineplot(k, maes)"
   ]
  },
  {
   "cell_type": "markdown",
   "id": "66dd4b26",
   "metadata": {},
   "source": [
    "## Random Forest"
   ]
  },
  {
   "cell_type": "code",
   "execution_count": 50,
   "id": "8979c173",
   "metadata": {},
   "outputs": [
    {
     "data": {
      "text/plain": [
       "RandomForestRegressor(max_features=None, n_estimators=8)"
      ]
     },
     "execution_count": 50,
     "metadata": {},
     "output_type": "execute_result"
    }
   ],
   "source": [
    "from sklearn.ensemble import RandomForestRegressor\n",
    "lin = RandomForestRegressor(n_estimators=8,max_features=None)\n",
    "lin.fit(X_train,y_train)"
   ]
  },
  {
   "cell_type": "code",
   "execution_count": 51,
   "id": "904cc198",
   "metadata": {},
   "outputs": [
    {
     "name": "stderr",
     "output_type": "stream",
     "text": [
      "C:\\Users\\naman\\anaconda3\\envs\\dap\\lib\\site-packages\\seaborn\\_decorators.py:36: FutureWarning: Pass the following variables as keyword args: x, y. From version 0.12, the only valid positional argument will be `data`, and passing other arguments without an explicit keyword will result in an error or misinterpretation.\n",
      "  warnings.warn(\n"
     ]
    },
    {
     "data": {
      "text/plain": [
       "<AxesSubplot:xlabel='final_20'>"
      ]
     },
     "execution_count": 51,
     "metadata": {},
     "output_type": "execute_result"
    },
    {
     "data": {
      "image/png": "[encoded data removed]",
      "text/plain": [
       "<Figure size 432x288 with 1 Axes>"
      ]
     },
     "metadata": {
      "needs_background": "light"
     },
     "output_type": "display_data"
    }
   ],
   "source": [
    "predictions = lin.predict(X_test)\n",
    "sns.regplot(y_test,predictions)"
   ]
  },
  {
   "cell_type": "code",
   "execution_count": 52,
   "id": "e421cecc",
   "metadata": {},
   "outputs": [
    {
     "data": {
      "image/png": "[encoded data removed]",
      "text/plain": [
       "<Figure size 432x288 with 1 Axes>"
      ]
     },
     "metadata": {
      "needs_background": "light"
     },
     "output_type": "display_data"
    }
   ],
   "source": [
    "plotter(y_test, predictions)"
   ]
  },
  {
   "cell_type": "code",
   "execution_count": 53,
   "id": "f49b3abd",
   "metadata": {},
   "outputs": [
    {
     "name": "stdout",
     "output_type": "stream",
     "text": [
      "MSE:  561.8174019607843\n",
      "R2 Score:  0.2182110541216954\n",
      "MAE:  17.936274509803923\n"
     ]
    }
   ],
   "source": [
    "mse = mean_squared_error(y_test.values, predictions)\n",
    "r2 = r2_score(y_test.values, predictions)\n",
    "print(\"MSE: \", mse)\n",
    "print(\"R2 Score: \", r2)\n",
    "print(\"MAE: \", mae(y_test, predictions))"
   ]
  },
  {
   "cell_type": "code",
   "execution_count": 49,
   "id": "012102e0",
   "metadata": {},
   "outputs": [
    {
     "name": "stderr",
     "output_type": "stream",
     "text": [
      "C:\\Users\\naman\\anaconda3\\envs\\dap\\lib\\site-packages\\seaborn\\_decorators.py:36: FutureWarning: Pass the following variables as keyword args: x, y. From version 0.12, the only valid positional argument will be `data`, and passing other arguments without an explicit keyword will result in an error or misinterpretation.\n",
      "  warnings.warn(\n"
     ]
    },
    {
     "data": {
      "text/plain": [
       "<AxesSubplot:>"
      ]
     },
     "execution_count": 49,
     "metadata": {},
     "output_type": "execute_result"
    },
    {
     "data": {
      "image/png": "[encoded data removed]",
      "text/plain": [
       "<Figure size 432x288 with 1 Axes>"
      ]
     },
     "metadata": {
      "needs_background": "light"
     },
     "output_type": "display_data"
    }
   ],
   "source": [
    "e = []\n",
    "maes = []\n",
    "\n",
    "for i in range(3, 20):\n",
    "    model = RandomForestRegressor(n_estimators=i)\n",
    "    model.fit(X_train, y_train)\n",
    "    predictions = model.predict(X_test)\n",
    "    e.append(i)\n",
    "    maes.append(mae(y_test, predictions))\n",
    "\n",
    "sns.lineplot(e, maes)"
   ]
  },
  {
   "cell_type": "code",
   "execution_count": null,
   "id": "cbe41f52",
   "metadata": {},
   "outputs": [],
   "source": []
  }
 ],
 "metadata": {
  "kernelspec": {
   "display_name": "Python 3 (ipykernel)",
   "language": "python",
   "name": "python3"
  },
  "language_info": {
   "codemirror_mode": {
    "name": "ipython",
    "version": 3
   },
   "file_extension": ".py",
   "mimetype": "text/x-python",
   "name": "python",
   "nbconvert_exporter": "python",
   "pygments_lexer": "ipython3",
   "version": "3.9.7"
  }
 },
 "nbformat": 4,
 "nbformat_minor": 5
}
